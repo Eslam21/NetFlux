{
 "cells": [
  {
   "cell_type": "code",
   "execution_count": 1,
   "metadata": {},
   "outputs": [],
   "source": [
    "import ast\n",
    "import numpy as np\n",
    "import pandas as pd"
   ]
  },
  {
   "cell_type": "code",
   "execution_count": 6,
   "metadata": {},
   "outputs": [
    {
     "ename": "NameError",
     "evalue": "name 'movies' is not defined",
     "output_type": "error",
     "traceback": [
      "\u001b[1;31m---------------------------------------------------------------------------\u001b[0m",
      "\u001b[1;31mNameError\u001b[0m                                 Traceback (most recent call last)",
      "Cell \u001b[1;32mIn [6], line 1\u001b[0m\n\u001b[1;32m----> 1\u001b[0m movies\u001b[39m.\u001b[39mdrop([\u001b[39m\"\u001b[39m\u001b[39mrevenue\u001b[39m\u001b[39m\"\u001b[39m,\u001b[39m\"\u001b[39m\u001b[39mbudget\u001b[39m\u001b[39m\"\u001b[39m,\u001b[39m'\u001b[39m\u001b[39mstatus\u001b[39m\u001b[39m'\u001b[39m, \u001b[39m'\u001b[39m\u001b[39mspoken_languages\u001b[39m\u001b[39m'\u001b[39m,\u001b[39m'\u001b[39m\u001b[39mtagline\u001b[39m\u001b[39m'\u001b[39m,\u001b[39m'\u001b[39m\u001b[39mvideo\u001b[39m\u001b[39m'\u001b[39m,\u001b[39m'\u001b[39m\u001b[39madult\u001b[39m\u001b[39m'\u001b[39m,\u001b[39m'\u001b[39m\u001b[39mgenres\u001b[39m\u001b[39m'\u001b[39m,\u001b[39m'\u001b[39m\u001b[39mimdb_id\u001b[39m\u001b[39m'\u001b[39m,\u001b[39m'\u001b[39m\u001b[39mhomepage\u001b[39m\u001b[39m'\u001b[39m,\u001b[39m'\u001b[39m\u001b[39mbelongs_to_collection\u001b[39m\u001b[39m'\u001b[39m,\u001b[39m'\u001b[39m\u001b[39mbelongs_to_collection\u001b[39m\u001b[39m'\u001b[39m,\u001b[39m'\u001b[39m\u001b[39mproduction_countries\u001b[39m\u001b[39m'\u001b[39m], axis\u001b[39m=\u001b[39m\u001b[39m1\u001b[39m, inplace\u001b[39m=\u001b[39m\u001b[39mTrue\u001b[39;00m)\n\u001b[0;32m      2\u001b[0m display(movies\u001b[39m.\u001b[39misnull()\u001b[39m.\u001b[39msum(axis\u001b[39m=\u001b[39m\u001b[39m0\u001b[39m))\n\u001b[0;32m      3\u001b[0m display(movies\u001b[39m.\u001b[39mshape)\n",
      "\u001b[1;31mNameError\u001b[0m: name 'movies' is not defined"
     ]
    }
   ],
   "source": [
    "movies=pd.read_csv('movies_metadata.csv')\n",
    "movies.drop([\"revenue\",\"budget\",'status', 'spoken_languages','tagline','video','adult','genres','imdb_id','homepage','belongs_to_collection','belongs_to_collection','production_countries'], axis=1, inplace=True)\n",
    "display(movies.isnull().sum(axis=0))\n",
    "display(movies.shape)\n",
    "movies=movies.dropna()\n",
    "display(movies.shape)"
   ]
  },
  {
   "cell_type": "code",
   "execution_count": null,
   "metadata": {},
   "outputs": [],
   "source": [
    "def convert(obj):\n",
    "    L = []\n",
    "    for i in ast.literal_eval(obj):\n",
    "        L.append(i['name']) \n",
    "    try:\n",
    "        return L[0]\n",
    "    except IndexError:\n",
    "        return None \n",
    "movies['production_company'] = movies['production_companies'].apply(convert) "
   ]
  },
  {
   "cell_type": "code",
   "execution_count": null,
   "metadata": {},
   "outputs": [
    {
     "data": {
      "text/plain": [
       "(33109, 12)"
      ]
     },
     "metadata": {},
     "output_type": "display_data"
    }
   ],
   "source": [
    "movies.isna().sum()\n",
    "movies=movies.dropna()\n",
    "movies.drop(['production_companies'], axis=1, inplace=True)\n",
    "movies.isna().sum()\n",
    "display(movies.shape)"
   ]
  },
  {
   "cell_type": "code",
   "execution_count": null,
   "metadata": {},
   "outputs": [
    {
     "data": {
      "text/plain": [
       "(4714, 12)"
      ]
     },
     "execution_count": 22,
     "metadata": {},
     "output_type": "execute_result"
    }
   ],
   "source": [
    "movies=movies.drop(movies[(movies['runtime'] < 3) | (movies['vote_average'] == 0) | (movies['vote_count'] < 150) ].index)\n",
    "movies.shape"
   ]
  },
  {
   "cell_type": "code",
   "execution_count": null,
   "metadata": {},
   "outputs": [
    {
     "data": {
      "text/html": [
       "<div>\n",
       "<style scoped>\n",
       "    .dataframe tbody tr th:only-of-type {\n",
       "        vertical-align: middle;\n",
       "    }\n",
       "\n",
       "    .dataframe tbody tr th {\n",
       "        vertical-align: top;\n",
       "    }\n",
       "\n",
       "    .dataframe thead th {\n",
       "        text-align: right;\n",
       "    }\n",
       "</style>\n",
       "<table border=\"1\" class=\"dataframe\">\n",
       "  <thead>\n",
       "    <tr style=\"text-align: right;\">\n",
       "      <th></th>\n",
       "      <th>runtime</th>\n",
       "      <th>vote_average</th>\n",
       "      <th>vote_count</th>\n",
       "    </tr>\n",
       "  </thead>\n",
       "  <tbody>\n",
       "    <tr>\n",
       "      <th>count</th>\n",
       "      <td>4714.000000</td>\n",
       "      <td>4714.000000</td>\n",
       "      <td>4714.000000</td>\n",
       "    </tr>\n",
       "    <tr>\n",
       "      <th>mean</th>\n",
       "      <td>108.042003</td>\n",
       "      <td>6.464425</td>\n",
       "      <td>897.083157</td>\n",
       "    </tr>\n",
       "    <tr>\n",
       "      <th>std</th>\n",
       "      <td>25.268789</td>\n",
       "      <td>0.840022</td>\n",
       "      <td>1276.776857</td>\n",
       "    </tr>\n",
       "    <tr>\n",
       "      <th>min</th>\n",
       "      <td>3.000000</td>\n",
       "      <td>2.900000</td>\n",
       "      <td>150.000000</td>\n",
       "    </tr>\n",
       "    <tr>\n",
       "      <th>25%</th>\n",
       "      <td>95.000000</td>\n",
       "      <td>5.900000</td>\n",
       "      <td>238.000000</td>\n",
       "    </tr>\n",
       "    <tr>\n",
       "      <th>50%</th>\n",
       "      <td>105.000000</td>\n",
       "      <td>6.500000</td>\n",
       "      <td>413.000000</td>\n",
       "    </tr>\n",
       "    <tr>\n",
       "      <th>75%</th>\n",
       "      <td>118.000000</td>\n",
       "      <td>7.100000</td>\n",
       "      <td>953.000000</td>\n",
       "    </tr>\n",
       "    <tr>\n",
       "      <th>max</th>\n",
       "      <td>705.000000</td>\n",
       "      <td>9.100000</td>\n",
       "      <td>14075.000000</td>\n",
       "    </tr>\n",
       "  </tbody>\n",
       "</table>\n",
       "</div>"
      ],
      "text/plain": [
       "           runtime  vote_average    vote_count\n",
       "count  4714.000000   4714.000000   4714.000000\n",
       "mean    108.042003      6.464425    897.083157\n",
       "std      25.268789      0.840022   1276.776857\n",
       "min       3.000000      2.900000    150.000000\n",
       "25%      95.000000      5.900000    238.000000\n",
       "50%     105.000000      6.500000    413.000000\n",
       "75%     118.000000      7.100000    953.000000\n",
       "max     705.000000      9.100000  14075.000000"
      ]
     },
     "execution_count": 23,
     "metadata": {},
     "output_type": "execute_result"
    }
   ],
   "source": [
    "movies.describe()"
   ]
  },
  {
   "cell_type": "code",
   "execution_count": null,
   "metadata": {},
   "outputs": [
    {
     "name": "stderr",
     "output_type": "stream",
     "text": [
      "C:\\Users\\eslam\\AppData\\Local\\Temp\\ipykernel_8668\\3246493461.py:5: SettingWithCopyWarning: \n",
      "A value is trying to be set on a copy of a slice from a DataFrame\n",
      "\n",
      "See the caveats in the documentation: https://pandas.pydata.org/pandas-docs/stable/user_guide/indexing.html#returning-a-view-versus-a-copy\n",
      "  movies['original_language'][i]= None\n"
     ]
    }
   ],
   "source": [
    "movies.reset_index(drop=True, inplace=True)\n",
    "for i in range(len(movies['original_language'])):\n",
    "    if movies['original_language'][i] not in ['en','fr','ja','es','it','de','ko','cn','zh','da','sv','pt','th','no']:\n",
    "        \n",
    "        movies['original_language'][i]= None\n",
    "\n",
    "        \n",
    "movies=movies.dropna()\n",
    "\n",
    "movies.loc[movies['original_language'] == 'en', 'original_language'] = \"English\"\n",
    "movies.loc[movies['original_language'] == 'fr', 'original_language'] = \"French\"\n",
    "movies.loc[movies['original_language'] == 'ja', 'original_language'] = \"Japanese\"\n",
    "movies.loc[movies['original_language'] == 'es', 'original_language'] = \"Spanish\"\n",
    "movies.loc[movies['original_language'] == 'it', 'original_language'] = \"Italian\"\n",
    "movies.loc[movies['original_language'] == 'de', 'original_language'] = \"German\"\n",
    "movies.loc[movies['original_language'] == 'ko', 'original_language'] = \"Korean\"\n",
    "movies.loc[movies['original_language'] == 'cn', 'original_language'] = \"Chinese\"\n",
    "movies.loc[movies['original_language'] == 'zh', 'original_language'] = \"Chinese\"\n",
    "movies.loc[movies['original_language'] == 'da', 'original_language'] = \"Danish\"\n",
    "movies.loc[movies['original_language'] == 'sv', 'original_language'] = \"Swedish\"\n",
    "movies.loc[movies['original_language'] == 'pt', 'original_language'] = \"Portegues\"\n",
    "movies.loc[movies['original_language'] == 'th', 'original_language'] = \"Thai\"\n",
    "movies.loc[movies['original_language'] == 'no', 'original_language'] = \"Noirwegeian\"   "
   ]
  },
  {
   "cell_type": "code",
   "execution_count": null,
   "metadata": {},
   "outputs": [
    {
     "data": {
      "text/plain": [
       "English        4216\n",
       "French          189\n",
       "Japanese         70\n",
       "Italian          51\n",
       "Spanish          39\n",
       "Chinese          30\n",
       "German           29\n",
       "Korean           19\n",
       "Danish           15\n",
       "Swedish          11\n",
       "Portegues         6\n",
       "Thai              4\n",
       "Noirwegeian       3\n",
       "Name: original_language, dtype: int64"
      ]
     },
     "execution_count": 25,
     "metadata": {},
     "output_type": "execute_result"
    }
   ],
   "source": [
    "movies[\"original_language\"].value_counts()"
   ]
  },
  {
   "cell_type": "code",
   "execution_count": null,
   "metadata": {},
   "outputs": [
    {
     "data": {
      "text/plain": [
       "id                             int32\n",
       "original_language             object\n",
       "original_title                object\n",
       "overview                      object\n",
       "popularity                   float64\n",
       "poster_path                   object\n",
       "release_date          datetime64[ns]\n",
       "runtime                        int32\n",
       "title                         object\n",
       "vote_average                 float64\n",
       "vote_count                   float64\n",
       "production_company            object\n",
       "dtype: object"
      ]
     },
     "execution_count": 26,
     "metadata": {},
     "output_type": "execute_result"
    }
   ],
   "source": [
    "movies['id'] = movies['id'].astype('int')\n",
    "movies['runtime'] = movies['runtime'].astype('int')\n",
    "movies['popularity'] = movies['popularity'].astype('float')\n",
    "movies['release_date'] = pd.to_datetime(movies['release_date'], format='%Y-%m-%d')\n",
    "movies.dtypes"
   ]
  },
  {
   "cell_type": "code",
   "execution_count": null,
   "metadata": {},
   "outputs": [
    {
     "data": {
      "text/plain": [
       "(4678,)"
      ]
     },
     "execution_count": 27,
     "metadata": {},
     "output_type": "execute_result"
    }
   ],
   "source": [
    "movies.shape\n",
    "movies = movies.drop_duplicates(subset = \"id\")\n",
    "movies['id'].shape"
   ]
  },
  {
   "cell_type": "code",
   "execution_count": 33,
   "metadata": {},
   "outputs": [],
   "source": [
    "# movies.to_csv('Movies.csv',index=False)\n",
    "movies=pd.read_csv('Movies.csv')"
   ]
  },
  {
   "cell_type": "code",
   "execution_count": 34,
   "metadata": {},
   "outputs": [],
   "source": [
    "cast=pd.read_csv('Cast_table.csv')"
   ]
  },
  {
   "cell_type": "code",
   "execution_count": 35,
   "metadata": {},
   "outputs": [],
   "source": [
    "cast=cast.drop(cast.columns[[0]],axis = 1)\n",
    "idehat=np.array(movies['id'])"
   ]
  },
  {
   "cell_type": "code",
   "execution_count": 36,
   "metadata": {},
   "outputs": [],
   "source": [
    "movies.reset_index(drop=True, inplace=True)\n",
    "for i in range(len(cast['movieid'])):\n",
    "    if cast['movieid'][i] not in idehat:\n",
    "        cast['movieid'][i]= None"
   ]
  },
  {
   "cell_type": "code",
   "execution_count": 37,
   "metadata": {},
   "outputs": [
    {
     "data": {
      "text/plain": [
       "movieid           0\n",
       "castid            0\n",
       "character_name    0\n",
       "actor_name        0\n",
       "order             0\n",
       "dtype: int64"
      ]
     },
     "metadata": {},
     "output_type": "display_data"
    },
    {
     "data": {
      "text/plain": [
       "(13989, 5)"
      ]
     },
     "metadata": {},
     "output_type": "display_data"
    }
   ],
   "source": [
    "display(cast.isna().sum())\n",
    "cast=cast.dropna()\n",
    "display(cast.shape)\n",
    "cast.to_csv('Cast.csv',index=False)"
   ]
  },
  {
   "cell_type": "code",
   "execution_count": 38,
   "metadata": {},
   "outputs": [],
   "source": [
    "crew=pd.read_csv('Crew_table.csv')\n",
    "genres=pd.read_csv('Genres_table.csv')\n",
    "\n",
    "crew=crew.drop(crew.columns[[0]],axis = 1)\n",
    "genres=genres.drop(genres.columns[[0]],axis = 1)\n",
    "\n",
    "crew['movieid'] = crew['movieid'].astype('int')\n"
   ]
  },
  {
   "cell_type": "code",
   "execution_count": 39,
   "metadata": {},
   "outputs": [],
   "source": [
    "genres.drop([44572,44573,44574,62872,62873,62874,62875,62876,74039,74040,74041,74042], axis=0, inplace=True)\n",
    "genres['id'] = genres['id'].astype('int')"
   ]
  },
  {
   "cell_type": "code",
   "execution_count": 40,
   "metadata": {},
   "outputs": [
    {
     "name": "stderr",
     "output_type": "stream",
     "text": [
      "C:\\Users\\eslam\\AppData\\Local\\Temp\\ipykernel_15148\\3694865153.py:11: SettingWithCopyWarning: \n",
      "A value is trying to be set on a copy of a slice from a DataFrame\n",
      "\n",
      "See the caveats in the documentation: https://pandas.pydata.org/pandas-docs/stable/user_guide/indexing.html#returning-a-view-versus-a-copy\n",
      "  genres['id'][i]= None\n"
     ]
    }
   ],
   "source": [
    "genres.reset_index(drop=True, inplace=True)\n",
    "crew.reset_index(drop=True, inplace=True)\n",
    "\n",
    "\n",
    "for i in range(len(crew['movieid'])):\n",
    "    if crew['movieid'][i] not in idehat:\n",
    "        crew['movieid'][i]= None\n",
    "        \n",
    "for i in range(len(genres['id'])):\n",
    "    if genres['id'][i] not in idehat:\n",
    "        genres['id'][i]= None"
   ]
  },
  {
   "cell_type": "code",
   "execution_count": 41,
   "metadata": {},
   "outputs": [
    {
     "data": {
      "text/plain": [
       "movieid       0\n",
       "crewid        0\n",
       "name          0\n",
       "department    0\n",
       "job           0\n",
       "dtype: int64"
      ]
     },
     "metadata": {},
     "output_type": "display_data"
    },
    {
     "data": {
      "text/plain": [
       "(13985, 5)"
      ]
     },
     "metadata": {},
     "output_type": "display_data"
    }
   ],
   "source": [
    "display(crew.isna().sum())\n",
    "crew=crew.dropna()\n",
    "display(crew.shape)\n",
    "crew.to_csv('Crew.csv',index=False)"
   ]
  },
  {
   "cell_type": "code",
   "execution_count": 42,
   "metadata": {},
   "outputs": [
    {
     "data": {
      "text/plain": [
       "id        78744\n",
       "genres        0\n",
       "dtype: int64"
      ]
     },
     "metadata": {},
     "output_type": "display_data"
    },
    {
     "data": {
      "text/plain": [
       "(12350, 2)"
      ]
     },
     "metadata": {},
     "output_type": "display_data"
    }
   ],
   "source": [
    "display(genres.isna().sum())\n",
    "genres=genres.dropna()\n",
    "display(genres.shape)\n",
    "genres.to_csv('Genres.csv',index=False)"
   ]
  }
 ],
 "metadata": {
  "kernelspec": {
   "display_name": "Python 3",
   "language": "python",
   "name": "python3"
  },
  "language_info": {
   "codemirror_mode": {
    "name": "ipython",
    "version": 3
   },
   "file_extension": ".py",
   "mimetype": "text/x-python",
   "name": "python",
   "nbconvert_exporter": "python",
   "pygments_lexer": "ipython3",
   "version": "3.10.5 (tags/v3.10.5:f377153, Jun  6 2022, 16:14:13) [MSC v.1929 64 bit (AMD64)]"
  },
  "orig_nbformat": 4,
  "vscode": {
   "interpreter": {
    "hash": "26de051ba29f2982a8de78e945f0abaf191376122a1563185a90213a26c5da77"
   }
  }
 },
 "nbformat": 4,
 "nbformat_minor": 2
}
