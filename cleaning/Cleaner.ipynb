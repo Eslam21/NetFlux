{
 "cells": [
  {
   "cell_type": "code",
   "execution_count": 900,
   "metadata": {},
   "outputs": [],
   "source": [
    "import ast\n",
    "import numpy as np\n",
    "import pandas as pd"
   ]
  },
  {
   "cell_type": "code",
   "execution_count": 901,
   "metadata": {},
   "outputs": [
    {
     "name": "stderr",
     "output_type": "stream",
     "text": [
      "C:\\Users\\eslam\\AppData\\Local\\Temp\\ipykernel_16616\\3959061764.py:1: DtypeWarning: Columns (10) have mixed types. Specify dtype option on import or set low_memory=False.\n",
      "  movies=pd.read_csv('movies_metadata.csv')\n"
     ]
    }
   ],
   "source": [
    "movies=pd.read_csv('movies_metadata.csv')"
   ]
  },
  {
   "cell_type": "code",
   "execution_count": 902,
   "metadata": {},
   "outputs": [
    {
     "data": {
      "text/plain": [
       "id                        0\n",
       "original_language        11\n",
       "original_title            0\n",
       "overview                954\n",
       "popularity                5\n",
       "poster_path             386\n",
       "production_companies      3\n",
       "release_date             87\n",
       "runtime                 263\n",
       "title                     6\n",
       "vote_average              6\n",
       "vote_count                6\n",
       "dtype: int64"
      ]
     },
     "metadata": {},
     "output_type": "display_data"
    },
    {
     "data": {
      "text/plain": [
       "(45466, 12)"
      ]
     },
     "metadata": {},
     "output_type": "display_data"
    },
    {
     "data": {
      "text/plain": [
       "(44118, 12)"
      ]
     },
     "metadata": {},
     "output_type": "display_data"
    }
   ],
   "source": [
    "movies.drop([\"revenue\",\"budget\",'status', 'spoken_languages','tagline','video','adult','genres','imdb_id','homepage','belongs_to_collection','belongs_to_collection','production_countries'], axis=1, inplace=True)\n",
    "display(movies.isnull().sum(axis=0))\n",
    "display(movies.shape)\n",
    "movies=movies.dropna()\n",
    "display(movies.shape)"
   ]
  },
  {
   "cell_type": "code",
   "execution_count": 903,
   "metadata": {},
   "outputs": [],
   "source": [
    "def convert(obj):\n",
    "    L = []\n",
    "    for i in ast.literal_eval(obj):\n",
    "        L.append(i['name']) \n",
    "    try:\n",
    "        return L[0]\n",
    "    except IndexError:\n",
    "        return None \n",
    "movies['production_company'] = movies['production_companies'].apply(convert) "
   ]
  },
  {
   "cell_type": "code",
   "execution_count": 904,
   "metadata": {},
   "outputs": [
    {
     "data": {
      "text/plain": [
       "(33109, 12)"
      ]
     },
     "metadata": {},
     "output_type": "display_data"
    }
   ],
   "source": [
    "movies.isna().sum()\n",
    "movies=movies.dropna()\n",
    "movies.drop(['production_companies'], axis=1, inplace=True)\n",
    "movies.isna().sum()\n",
    "display(movies.shape)"
   ]
  },
  {
   "cell_type": "code",
   "execution_count": 905,
   "metadata": {},
   "outputs": [
    {
     "data": {
      "text/plain": [
       "(4714, 12)"
      ]
     },
     "execution_count": 905,
     "metadata": {},
     "output_type": "execute_result"
    }
   ],
   "source": [
    "movies=movies.drop(movies[(movies['runtime'] < 3) | (movies['vote_average'] == 0) | (movies['vote_count'] < 150) ].index)\n",
    "movies.shape"
   ]
  },
  {
   "cell_type": "code",
   "execution_count": 906,
   "metadata": {},
   "outputs": [
    {
     "data": {
      "text/html": [
       "<div>\n",
       "<style scoped>\n",
       "    .dataframe tbody tr th:only-of-type {\n",
       "        vertical-align: middle;\n",
       "    }\n",
       "\n",
       "    .dataframe tbody tr th {\n",
       "        vertical-align: top;\n",
       "    }\n",
       "\n",
       "    .dataframe thead th {\n",
       "        text-align: right;\n",
       "    }\n",
       "</style>\n",
       "<table border=\"1\" class=\"dataframe\">\n",
       "  <thead>\n",
       "    <tr style=\"text-align: right;\">\n",
       "      <th></th>\n",
       "      <th>runtime</th>\n",
       "      <th>vote_average</th>\n",
       "      <th>vote_count</th>\n",
       "    </tr>\n",
       "  </thead>\n",
       "  <tbody>\n",
       "    <tr>\n",
       "      <th>count</th>\n",
       "      <td>4714.000000</td>\n",
       "      <td>4714.000000</td>\n",
       "      <td>4714.000000</td>\n",
       "    </tr>\n",
       "    <tr>\n",
       "      <th>mean</th>\n",
       "      <td>108.042003</td>\n",
       "      <td>6.464425</td>\n",
       "      <td>897.083157</td>\n",
       "    </tr>\n",
       "    <tr>\n",
       "      <th>std</th>\n",
       "      <td>25.268789</td>\n",
       "      <td>0.840022</td>\n",
       "      <td>1276.776857</td>\n",
       "    </tr>\n",
       "    <tr>\n",
       "      <th>min</th>\n",
       "      <td>3.000000</td>\n",
       "      <td>2.900000</td>\n",
       "      <td>150.000000</td>\n",
       "    </tr>\n",
       "    <tr>\n",
       "      <th>25%</th>\n",
       "      <td>95.000000</td>\n",
       "      <td>5.900000</td>\n",
       "      <td>238.000000</td>\n",
       "    </tr>\n",
       "    <tr>\n",
       "      <th>50%</th>\n",
       "      <td>105.000000</td>\n",
       "      <td>6.500000</td>\n",
       "      <td>413.000000</td>\n",
       "    </tr>\n",
       "    <tr>\n",
       "      <th>75%</th>\n",
       "      <td>118.000000</td>\n",
       "      <td>7.100000</td>\n",
       "      <td>953.000000</td>\n",
       "    </tr>\n",
       "    <tr>\n",
       "      <th>max</th>\n",
       "      <td>705.000000</td>\n",
       "      <td>9.100000</td>\n",
       "      <td>14075.000000</td>\n",
       "    </tr>\n",
       "  </tbody>\n",
       "</table>\n",
       "</div>"
      ],
      "text/plain": [
       "           runtime  vote_average    vote_count\n",
       "count  4714.000000   4714.000000   4714.000000\n",
       "mean    108.042003      6.464425    897.083157\n",
       "std      25.268789      0.840022   1276.776857\n",
       "min       3.000000      2.900000    150.000000\n",
       "25%      95.000000      5.900000    238.000000\n",
       "50%     105.000000      6.500000    413.000000\n",
       "75%     118.000000      7.100000    953.000000\n",
       "max     705.000000      9.100000  14075.000000"
      ]
     },
     "execution_count": 906,
     "metadata": {},
     "output_type": "execute_result"
    }
   ],
   "source": [
    "movies.describe()"
   ]
  },
  {
   "cell_type": "code",
   "execution_count": 907,
   "metadata": {},
   "outputs": [
    {
     "name": "stderr",
     "output_type": "stream",
     "text": [
      "C:\\Users\\eslam\\AppData\\Local\\Temp\\ipykernel_16616\\3246493461.py:5: SettingWithCopyWarning: \n",
      "A value is trying to be set on a copy of a slice from a DataFrame\n",
      "\n",
      "See the caveats in the documentation: https://pandas.pydata.org/pandas-docs/stable/user_guide/indexing.html#returning-a-view-versus-a-copy\n",
      "  movies['original_language'][i]= None\n"
     ]
    }
   ],
   "source": [
    "movies.reset_index(drop=True, inplace=True)\n",
    "for i in range(len(movies['original_language'])):\n",
    "    if movies['original_language'][i] not in ['en','fr','ja','es','it','de','ko','cn','zh','da','sv','pt','th','no']:\n",
    "        \n",
    "        movies['original_language'][i]= None\n",
    "\n",
    "        \n",
    "movies=movies.dropna()\n",
    "\n",
    "movies.loc[movies['original_language'] == 'en', 'original_language'] = \"English\"\n",
    "movies.loc[movies['original_language'] == 'fr', 'original_language'] = \"French\"\n",
    "movies.loc[movies['original_language'] == 'ja', 'original_language'] = \"Japanese\"\n",
    "movies.loc[movies['original_language'] == 'es', 'original_language'] = \"Spanish\"\n",
    "movies.loc[movies['original_language'] == 'it', 'original_language'] = \"Italian\"\n",
    "movies.loc[movies['original_language'] == 'de', 'original_language'] = \"German\"\n",
    "movies.loc[movies['original_language'] == 'ko', 'original_language'] = \"Korean\"\n",
    "movies.loc[movies['original_language'] == 'cn', 'original_language'] = \"Chinese\"\n",
    "movies.loc[movies['original_language'] == 'zh', 'original_language'] = \"Chinese\"\n",
    "movies.loc[movies['original_language'] == 'da', 'original_language'] = \"Danish\"\n",
    "movies.loc[movies['original_language'] == 'sv', 'original_language'] = \"Swedish\"\n",
    "movies.loc[movies['original_language'] == 'pt', 'original_language'] = \"Portegues\"\n",
    "movies.loc[movies['original_language'] == 'th', 'original_language'] = \"Thai\"\n",
    "movies.loc[movies['original_language'] == 'no', 'original_language'] = \"Noirwegeian\"   "
   ]
  },
  {
   "cell_type": "code",
   "execution_count": 908,
   "metadata": {},
   "outputs": [
    {
     "data": {
      "text/plain": [
       "English        4216\n",
       "French          189\n",
       "Japanese         70\n",
       "Italian          51\n",
       "Spanish          39\n",
       "Chinese          30\n",
       "German           29\n",
       "Korean           19\n",
       "Danish           15\n",
       "Swedish          11\n",
       "Portegues         6\n",
       "Thai              4\n",
       "Noirwegeian       3\n",
       "Name: original_language, dtype: int64"
      ]
     },
     "execution_count": 908,
     "metadata": {},
     "output_type": "execute_result"
    }
   ],
   "source": [
    "movies[\"original_language\"].value_counts()"
   ]
  },
  {
   "cell_type": "code",
   "execution_count": 909,
   "metadata": {},
   "outputs": [
    {
     "data": {
      "text/plain": [
       "id                             int32\n",
       "original_language             object\n",
       "original_title                object\n",
       "overview                      object\n",
       "popularity                   float64\n",
       "poster_path                   object\n",
       "release_date          datetime64[ns]\n",
       "runtime                        int32\n",
       "title                         object\n",
       "vote_average                 float64\n",
       "vote_count                   float64\n",
       "production_company            object\n",
       "dtype: object"
      ]
     },
     "execution_count": 909,
     "metadata": {},
     "output_type": "execute_result"
    }
   ],
   "source": [
    "movies['id'] = movies['id'].astype('int')\n",
    "movies['runtime'] = movies['runtime'].astype('int')\n",
    "movies['popularity'] = movies['popularity'].astype('float')\n",
    "movies['release_date'] = pd.to_datetime(movies['release_date'], format='%Y-%m-%d')\n",
    "movies.dtypes"
   ]
  },
  {
   "cell_type": "code",
   "execution_count": 910,
   "metadata": {},
   "outputs": [
    {
     "data": {
      "text/plain": [
       "(4682, 12)"
      ]
     },
     "execution_count": 910,
     "metadata": {},
     "output_type": "execute_result"
    }
   ],
   "source": [
    "movies.shape"
   ]
  },
  {
   "cell_type": "code",
   "execution_count": 911,
   "metadata": {},
   "outputs": [],
   "source": [
    "movies.to_csv('Movies.csv',index=False)"
   ]
  }
 ],
 "metadata": {
  "kernelspec": {
   "display_name": "Python 3",
   "language": "python",
   "name": "python3"
  },
  "language_info": {
   "codemirror_mode": {
    "name": "ipython",
    "version": 3
   },
   "file_extension": ".py",
   "mimetype": "text/x-python",
   "name": "python",
   "nbconvert_exporter": "python",
   "pygments_lexer": "ipython3",
   "version": "3.10.5"
  },
  "orig_nbformat": 4,
  "vscode": {
   "interpreter": {
    "hash": "26de051ba29f2982a8de78e945f0abaf191376122a1563185a90213a26c5da77"
   }
  }
 },
 "nbformat": 4,
 "nbformat_minor": 2
}
